{
 "cells": [
  {
   "cell_type": "code",
   "execution_count": 1,
   "id": "cd58aa73-7af2-4c90-98e2-8a1139046c78",
   "metadata": {},
   "outputs": [
    {
     "ename": "SyntaxError",
     "evalue": "invalid decimal literal (63033455.py, line 9)",
     "output_type": "error",
     "traceback": [
      "\u001b[0;36m  Cell \u001b[0;32mIn[1], line 9\u001b[0;36m\u001b[0m\n\u001b[0;31m    1.start index (where loop started)\u001b[0m\n\u001b[0m     ^\u001b[0m\n\u001b[0;31mSyntaxError\u001b[0m\u001b[0;31m:\u001b[0m invalid decimal literal\n"
     ]
    }
   ],
   "source": [
    "Answer-1\n",
    "\n",
    "Both while and for loop are used to execute the block of statement repeatedly until given condition is satisfied.\n",
    "\n",
    "while loop is a entry type loop it mens that first it checks the condition and if it true then it execute the \n",
    "block of statement that written inside the while body.\n",
    "\n",
    "for loop is also a entry controlled loop that same as while loop but in this loop we define three parts \n",
    "1.start index (where loop started)\n",
    "2.end index which are exclusive (where loop is reached)\n",
    "3.increaments (that steps are define )\n",
    "\n",
    "example:\n",
    "    \n",
    "while num!=0:\n",
    "    print(num)\n",
    "    \n",
    "for i in range(1,10):\n",
    "    print(i)"
   ]
  },
  {
   "cell_type": "code",
   "execution_count": 4,
   "id": "8016801b-9aea-48f5-8cf5-9d83608f39fd",
   "metadata": {},
   "outputs": [
    {
     "name": "stdout",
     "output_type": "stream",
     "text": [
      "Sum of first 10 natural number is  55\n",
      "Product of first 10 natural number is  3628800\n"
     ]
    }
   ],
   "source": [
    "#print sum and product of first 10 natural number using while loop\n",
    "\n",
    "#sum of first 10 natural number \n",
    "num=1\n",
    "sum=0\n",
    "\n",
    "while num<=10:\n",
    "    sum=sum+num\n",
    "    num=num+1\n",
    "print(\"Sum of first 10 natural number is \",sum)\n",
    "#product of the first 10 natural number \n",
    "num=1\n",
    "product=1\n",
    "\n",
    "while num<=10:\n",
    "    product=product*num\n",
    "    num=num+1\n",
    "print(\"Product of first 10 natural number is \",product)"
   ]
  },
  {
   "cell_type": "code",
   "execution_count": 6,
   "id": "606ae975-9825-4e91-acf0-20acecc97813",
   "metadata": {},
   "outputs": [
    {
     "name": "stdout",
     "output_type": "stream",
     "text": [
      "Sum of first 10 natural number is  55\n",
      "Product of first 10 natural number is  3628800\n"
     ]
    }
   ],
   "source": [
    "#print sum and product of first 10 natural number using for loop\n",
    "\n",
    "#sum of first 10 natural number \n",
    "sum_2=0\n",
    "for i in [1,2,3,4,5,6,7,8,9,10]:\n",
    "    sum_2=sum_2+i\n",
    "print(\"Sum of first 10 natural number is \",sum_2)\n",
    "\n",
    "#product of first 10 natural number is \n",
    "product_2=1\n",
    "for i in range(1,11):\n",
    "    product_2=product_2*i\n",
    "print(\"Product of first 10 natural number is \", product_2)"
   ]
  },
  {
   "cell_type": "code",
   "execution_count": 15,
   "id": "60e34d26-8eac-4410-8e08-40361d5133fe",
   "metadata": {},
   "outputs": [
    {
     "name": "stdin",
     "output_type": "stream",
     "text": [
      "Enter the units of electricity consumed in month 310\n"
     ]
    },
    {
     "name": "stdout",
     "output_type": "stream",
     "text": [
      "Total electricity bill amount is  2250\n"
     ]
    }
   ],
   "source": [
    "#Answer-3\n",
    "\n",
    "units = int(input(\"Enter the units of electricity consumed in month\"))\n",
    "\n",
    "if units <= 100:\n",
    "           Bill_amount = (units*4.5)\n",
    "elif units <= 200:\n",
    "         Bill_amount = (450+(units-100)*6)\n",
    "elif units <=300:\n",
    "           Bill_amount =( 450+600+(units-200)*10)\n",
    "else:\n",
    "           Bill_amount = (450+600+1000+(units-300)*20)\n",
    "print(\"Total electricity bill amount is \",Bill_amount)"
   ]
  },
  {
   "cell_type": "code",
   "execution_count": 2,
   "id": "39459d0b-5496-45d1-ad05-504337def243",
   "metadata": {},
   "outputs": [
    {
     "name": "stdout",
     "output_type": "stream",
     "text": [
      "[1, 8, 27, 64, 125, 216, 343, 512, 729, 1000, 1331, 1728, 2197, 2744, 3375, 4096, 4913, 5832, 6859, 8000, 9261, 10648, 12167, 13824, 15625, 17576, 19683, 21952, 24389, 27000, 29791, 32768, 35937, 39304, 42875, 46656, 50653, 54872, 59319, 64000, 68921, 74088, 79507, 85184, 91125, 97336, 103823, 110592, 117649, 125000, 132651, 140608, 148877, 157464, 166375, 175616, 185193, 195112, 205379, 216000, 226981, 238328, 250047, 262144, 274625, 287496, 300763, 314432, 328509, 343000, 357911, 373248, 389017, 405224, 421875, 438976, 456533, 474552, 493039, 512000, 531441, 551368, 571787, 592704, 614125, 636056, 658503, 681472, 704969, 729000, 753571, 778688, 804357, 830584, 857375, 884736, 912673, 941192, 970299, 1000000]\n",
      "length of cube list is  100\n",
      "[8, 64, 125, 216, 512, 1000, 1728, 2744, 3375, 4096, 5832, 8000, 10648, 13824, 15625, 17576, 21952, 27000, 32768, 39304, 42875, 46656, 54872, 64000, 74088, 85184, 91125, 97336, 110592, 125000, 140608, 157464, 166375, 175616, 195112, 216000, 238328, 262144, 274625, 287496, 314432, 343000, 373248, 405224, 421875, 438976, 474552, 512000, 551368, 592704, 614125, 636056, 681472, 729000, 778688, 830584, 857375, 884736, 941192, 1000000]\n",
      "length of list that each element is divisible by 4 or 5 is  60\n"
     ]
    }
   ],
   "source": [
    "#Answer-4\n",
    "#using for loop and while loop\n",
    "cube_list=[]\n",
    "final_list=[]\n",
    "num=1\n",
    "while num<=100:\n",
    "    cube_list.append(num*num*num)\n",
    "    num=num+1\n",
    "\n",
    "for i in cube_list:\n",
    "    if i%4 == 0 or i%5 == 0:\n",
    "        final_list.append(i)\n",
    "print(cube_list)\n",
    "print(\"length of cube list is \" ,len(cube_list))\n",
    "print(final_list)\n",
    "print(\"length of list that each element is divisible by 4 or 5 is \",len(final_list))"
   ]
  },
  {
   "cell_type": "code",
   "execution_count": null,
   "id": "96f58c25-ca19-4042-bd07-8839b2ba7bac",
   "metadata": {},
   "outputs": [],
   "source": [
    "#answer-5\n",
    "string=\"I want to become a data sci\n",
    "vowels=0\n",
    "for i in string:\n",
    "      if(i=='a' or i=='e' or i=='i' or i=='o' or i=='u' or i=='A' or i=='E' or i=='I' or i=='O' or i=='U'):\n",
    "            vowels=vowels+1\n",
    "print(\"Number of vowels are:\")\n",
    "print(vowels)"
   ]
  },
  {
   "cell_type": "code",
   "execution_count": null,
   "id": "5fac4d5f-84ea-485e-8a12-95b563dbfdb0",
   "metadata": {},
   "outputs": [],
   "source": []
  }
 ],
 "metadata": {
  "kernelspec": {
   "display_name": "Python 3 (ipykernel)",
   "language": "python",
   "name": "python3"
  },
  "language_info": {
   "codemirror_mode": {
    "name": "ipython",
    "version": 3
   },
   "file_extension": ".py",
   "mimetype": "text/x-python",
   "name": "python",
   "nbconvert_exporter": "python",
   "pygments_lexer": "ipython3",
   "version": "3.10.8"
  }
 },
 "nbformat": 4,
 "nbformat_minor": 5
}
